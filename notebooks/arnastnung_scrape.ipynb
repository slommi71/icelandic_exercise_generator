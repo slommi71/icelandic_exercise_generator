{
 "metadata": {
  "language_info": {
   "codemirror_mode": {
    "name": "ipython",
    "version": 3
   },
   "file_extension": ".py",
   "mimetype": "text/x-python",
   "name": "python",
   "nbconvert_exporter": "python",
   "pygments_lexer": "ipython3",
   "version": "3.8.5-final"
  },
  "orig_nbformat": 2,
  "kernelspec": {
   "name": "python3",
   "display_name": "Python 3.8.5 64-bit ('venv')",
   "metadata": {
    "interpreter": {
     "hash": "3193c6dee2512d43c863b268b68ebfa624691938c1bee6efc980a7b41b773bc7"
    }
   }
  }
 },
 "nbformat": 4,
 "nbformat_minor": 2,
 "cells": [
  {
   "cell_type": "code",
   "execution_count": 6,
   "metadata": {},
   "outputs": [],
   "source": [
    "#!pip install Scrapy requests\n",
    "from scrapy import Selector\n",
    "import requests\n",
    " "
   ]
  },
  {
   "cell_type": "code",
   "execution_count": 7,
   "metadata": {},
   "outputs": [
    {
     "output_type": "stream",
     "name": "stdout",
     "text": [
      "[]\n"
     ]
    }
   ],
   "source": [
    "url = \"https://bin.arnastofnun.is/leit/mynd\"\n",
    "html = requests.get(url).content"
   ]
  },
  {
   "cell_type": "code",
   "execution_count": null,
   "metadata": {},
   "outputs": [],
   "source": []
  },
  {
   "cell_type": "code",
   "execution_count": null,
   "metadata": {},
   "outputs": [],
   "source": []
  },
  {
   "cell_type": "code",
   "execution_count": 12,
   "metadata": {},
   "outputs": [
    {
     "output_type": "stream",
     "name": "stdout",
     "text": [
      "b'<!doctype html><html lang=\"is\"><head><meta charset=\"utf-8\"><link rel=\"shortcut icon\" href=\"/favicon.ico\"><meta name=\"viewport\" content=\"width=device-width,initial-scale=1,shrink-to-fit=no\"><meta name=\"theme-color\" content=\"#000000\"><link rel=\"manifest\" href=\"/manifest.json\"><link rel=\"stylesheet\" href=\"/css/bootstrap.min.css\"><link rel=\"stylesheet\" href=\"/css/style.css\"><script src=\"//www.google.com/recaptcha/api.js?render=explicit&hl=is\"></script><link rel=\"search\" type=\"application/opensearchdescription+xml\" title=\"Beygingarl\\xc3\\xbdsing \\xc3\\xadslensks n\\xc3\\xbat\\xc3\\xadmam\\xc3\\xa1ls\" href=\"/opensearch.xml\"/><title>Beygingarl\\xc3\\xbdsing \\xc3\\xadslensks n\\xc3\\xbat\\xc3\\xadmam\\xc3\\xa1ls</title><meta name=\"description\" content=\"Beygingarl\\xc3\\xbdsingin er safn beygingard\\xc3\\xa6ma sem s\\xc3\\xbdnir einstakar beygingarmyndir \\xc3\\xadslenskra or\\xc3\\xb0a.\"></head><body><noscript>You need to enable JavaScript to run this app.</noscript><div id=\"root\"></div><link rel=\"stylesheet\" href=\"//nidhoggur.rhi.hi.is/sam-menu/style.css\"><script type=\"text/javascript\" src=\"//nidhoggur.rhi.hi.is/sam-menu/main.js\"></script><div id=\"_sam_portal_menu\" class=\"_sam_menu_right\"></div><script async src=\"https://www.googletagmanager.com/gtag/js?id=UA-45579875-1\"></script><script>function gtag(){dataLayer.push(arguments)}window.dataLayer=window.dataLayer||[],gtag(\"js\",new Date),gtag(\"config\",\"UA-45579875-1\")</script><script>!function(l){function e(e){for(var r,t,n=e[0],o=e[1],u=e[2],f=0,i=[];f<n.length;f++)t=n[f],p[t]&&i.push(p[t][0]),p[t]=0;for(r in o)Object.prototype.hasOwnProperty.call(o,r)&&(l[r]=o[r]);for(s&&s(e);i.length;)i.shift()();return c.push.apply(c,u||[]),a()}function a(){for(var e,r=0;r<c.length;r++){for(var t=c[r],n=!0,o=1;o<t.length;o++){var u=t[o];0!==p[u]&&(n=!1)}n&&(c.splice(r--,1),e=f(f.s=t[0]))}return e}var t={},p={2:0},c=[];function f(e){if(t[e])return t[e].exports;var r=t[e]={i:e,l:!1,exports:{}};return l[e].call(r.exports,r,r.exports,f),r.l=!0,r.exports}f.m=l,f.c=t,f.d=function(e,r,t){f.o(e,r)||Object.defineProperty(e,r,{enumerable:!0,get:t})},f.r=function(e){\"undefined\"!=typeof Symbol&&Symbol.toStringTag&&Object.defineProperty(e,Symbol.toStringTag,{value:\"Module\"}),Object.defineProperty(e,\"__esModule\",{value:!0})},f.t=function(r,e){if(1&e&&(r=f(r)),8&e)return r;if(4&e&&\"object\"==typeof r&&r&&r.__esModule)return r;var t=Object.create(null);if(f.r(t),Object.defineProperty(t,\"default\",{enumerable:!0,value:r}),2&e&&\"string\"!=typeof r)for(var n in r)f.d(t,n,function(e){return r[e]}.bind(null,n));return t},f.n=function(e){var r=e&&e.__esModule?function(){return e.default}:function(){return e};return f.d(r,\"a\",r),r},f.o=function(e,r){return Object.prototype.hasOwnProperty.call(e,r)},f.p=\"/\";var r=window.webpackJsonp=window.webpackJsonp||[],n=r.push.bind(r);r.push=e,r=r.slice();for(var o=0;o<r.length;o++)e(r[o]);var s=n;a()}([])</script><script src=\"/static/js/1.1bc260dd.chunk.js\"></script><script src=\"/static/js/main.b58e17d8.chunk.js\"></script></body></html>'\n"
     ]
    }
   ],
   "source": [
    "\n",
    "sel = Selector(text=html)\n",
    "\n",
    "result = sel.xpath('//div[@class=\"column-content\"]/text()')\n",
    "print(html)"
   ]
  },
  {
   "cell_type": "code",
   "execution_count": null,
   "metadata": {},
   "outputs": [],
   "source": []
  }
 ]
}