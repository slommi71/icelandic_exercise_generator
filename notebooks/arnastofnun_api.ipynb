{
 "cells": [
  {
   "cell_type": "markdown",
   "metadata": {},
   "source": [
    "# Execute this first before excute jupyter notebook:  \r\n",
    "\r\n",
    "in commandline:  \r\n",
    "\r\n",
    "``` powershell\r\n",
    ".\\venv392\\Scripts\\activate.ps1  \r\n",
    "python.exe -m pip install --upgrade pip\r\n",
    "pip install -r .\\requirements.txt\r\n",
    "python -m ipykernel install --user --name=islenska`\r\n",
    "```\r\n",
    "\r\n",
    "then these steps in notebook:"
   ]
  },
  {
   "cell_type": "code",
   "execution_count": 65,
   "metadata": {},
   "outputs": [],
   "source": [
    "import requests\r\n",
    "import json\r\n",
    "from pprint import pprint\r\n",
    "\r\n",
    "baseurl = \"https://bin.arnastofnun.is/api/ord\"\r\n"
   ]
  },
  {
   "cell_type": "markdown",
   "metadata": {},
   "source": [
    "# Step 1: define word to find\r\n",
    "\r\n",
    "select and execute one of the next steps"
   ]
  },
  {
   "cell_type": "code",
   "execution_count": 3,
   "metadata": {},
   "outputs": [],
   "source": [
    "wordclass = \"no\"\r\n",
    "word = \"koma\""
   ]
  },
  {
   "cell_type": "code",
   "execution_count": 69,
   "metadata": {},
   "outputs": [],
   "source": [
    "wordclass = \"no\"\r\n",
    "word = \"kók\""
   ]
  },
  {
   "cell_type": "code",
   "execution_count": 41,
   "metadata": {},
   "outputs": [],
   "source": [
    "wordclass = \"so\"\r\n",
    "word = \"koma\""
   ]
  },
  {
   "cell_type": "code",
   "execution_count": 58,
   "metadata": {},
   "outputs": [],
   "source": [
    "wordclass = \"so\"\r\n",
    "word = \"fara\""
   ]
  },
  {
   "cell_type": "code",
   "execution_count": null,
   "metadata": {},
   "outputs": [],
   "source": [
    "wordclass = None\r\n",
    "word = \"koma\""
   ]
  },
  {
   "cell_type": "markdown",
   "metadata": {},
   "source": [
    "# Step 2: build url"
   ]
  },
  {
   "cell_type": "code",
   "execution_count": 70,
   "metadata": {},
   "outputs": [
    {
     "name": "stdout",
     "output_type": "stream",
     "text": [
      "https://bin.arnastofnun.is/api/ord/no/kók\n"
     ]
    }
   ],
   "source": [
    "if wordclass:\r\n",
    "    url = '/'.join([baseurl, wordclass, word])\r\n",
    "else:\r\n",
    "    url = '/'.join([baseurl, word])\r\n",
    "\r\n",
    "print(url)\r\n"
   ]
  },
  {
   "cell_type": "markdown",
   "metadata": {},
   "source": [
    "# Step 3: evaluate response from arnastofnun"
   ]
  },
  {
   "cell_type": "code",
   "execution_count": 71,
   "metadata": {},
   "outputs": [
    {
     "name": "stdout",
     "output_type": "stream",
     "text": [
      "kók er nafnorð:\n",
      "\tNFET: kók\n",
      "\tNFETgr: kókið\n",
      "\tÞFET: kók\n",
      "\tÞFETgr: kókið\n",
      "\tÞGFET: kóki\n",
      "\tÞGFETgr: kókinu\n",
      "\tEFET: kóks\n",
      "\tEFETgr: kóksins\n"
     ]
    }
   ],
   "source": [
    "response = requests.get(url).content\r\n",
    "jsonData = json.loads(response)\r\n",
    "if len(jsonData) > 1:\r\n",
    "    print('found several words, please be more specific, exiting ...')\r\n",
    "else:\r\n",
    "    for item in jsonData:\r\n",
    "        print('{0} er {1}:'.format(item.get(\"ord\"), item.get(\"ofl_heiti\").lower()))\r\n",
    "        for beygingarmyndir in item.get('bmyndir'):\r\n",
    "            print('\\t{0}: {1}'.format(beygingarmyndir.get('g'), beygingarmyndir.get('b')))\r\n"
   ]
  },
  {
   "cell_type": "code",
   "execution_count": 73,
   "metadata": {},
   "outputs": [
    {
     "name": "stdout",
     "output_type": "stream",
     "text": [
      "[{'bmyndir': [{'b': 'kók', 'g': 'NFET'},\n",
      "              {'b': 'kókið', 'g': 'NFETgr'},\n",
      "              {'b': 'kók', 'g': 'ÞFET'},\n",
      "              {'b': 'kókið', 'g': 'ÞFETgr'},\n",
      "              {'b': 'kóki', 'g': 'ÞGFET'},\n",
      "              {'b': 'kókinu', 'g': 'ÞGFETgr'},\n",
      "              {'b': 'kóks', 'g': 'EFET'},\n",
      "              {'b': 'kóksins', 'g': 'EFETgr'}],\n",
      "  'guid': 'e34225180a2690cacf8b0bfe594df1c1',\n",
      "  'kyn': 'hk',\n",
      "  'ofl': 'no',\n",
      "  'ofl_heiti': 'Nafnorð',\n",
      "  'ord': 'kók'}]\n"
     ]
    }
   ],
   "source": [
    "pprint(jsonData)"
   ]
  },
  {
   "cell_type": "markdown",
   "metadata": {},
   "source": [
    "# Step 4: convert arnastofnun json struct to dict"
   ]
  },
  {
   "cell_type": "code",
   "execution_count": 92,
   "metadata": {},
   "outputs": [
    {
     "name": "stdout",
     "output_type": "stream",
     "text": [
      "\"kók\" er nafnorð.\n",
      "\n",
      "class: nafnorð\n",
      "kyns: hvorugkyns\n",
      "nf: kók, kókið, None, None\n",
      "pf: kók, kókið, None, None\n"
     ]
    }
   ],
   "source": [
    "ord_dict = {}\r\n",
    "translate_abbrev = {\r\n",
    "    'kk': 'karlkyns',\r\n",
    "    'kvk': 'kvenkyns',\r\n",
    "    'hk': 'hvorugkyns',\r\n",
    "    'no': 'nafnorð',\r\n",
    "    'so': 'sagnorð'\r\n",
    "}\r\n",
    "\r\n",
    "for beygingarmyndir in jsonData[0].get('bmyndir'):\r\n",
    "    # print(list(beygingarmyndir.values()))\r\n",
    "    ord_dict[list(beygingarmyndir.values())[0]] = list(beygingarmyndir.values())[1]\r\n",
    "\r\n",
    "# print(ord_dict)\r\n",
    "\r\n",
    "# Testausgabe in meiner ordabok Struktur\r\n",
    "print('\"{0}\" er {1}.\\n'.format(jsonData[0].get('ord'), jsonData[0].get('ofl_heiti').lower()))\r\n",
    "if jsonData[0].get('ofl') == 'no':\r\n",
    "    print('class: {0}'.format(jsonData[0].get('ofl_heiti').lower()))\r\n",
    "    print('kyns: {0}'.format(translate_abbrev.get(jsonData[0].get('kyn'))))\r\n",
    "    print('nf: {0}, {1}, {2}, {3}'.format(\r\n",
    "        ord_dict.get('NFET'), ord_dict.get('NFETgr'), ord_dict.get('NFFT'), ord_dict.get('NFFTgr')))\r\n",
    "    print('pf: {0}, {1}, {2}, {3}'.format(\r\n",
    "        ord_dict.get('ÞFET'), ord_dict.get('ÞFETgr'), ord_dict.get('ÞFFT'), ord_dict.get('ÞFFTgr')))\r\n",
    "\r\n",
    "if jsonData[0]['ofl'] == 'so':\r\n",
    "    print('Infinitiv: {0}'.format(ord_dict.get('GM-NH')))\r\n",
    "    print('Nútíð eintala: {0}, {1}, {2}'.format(\r\n",
    "        ord_dict.get('GM-FH-NT-1P-ET'), ord_dict.get('GM-FH-NT-2P-ET'), ord_dict.get('GM-FH-NT-3P-ET')))\r\n",
    "    print('Nútíð fleirtala: {0}, {1}, {2}'.format(\r\n",
    "        ord_dict.get('GM-FH-NT-1P-FT'), ord_dict.get('GM-FH-NT-2P-FT'), ord_dict.get('GM-FH-NT-3P-FT')))\r\n",
    "    print('Þátíð eintala: {0}, {1}, {2}'.format(\r\n",
    "        ord_dict.get('GM-FH-ÞT-1P-ET'), ord_dict.get('GM-FH-ÞT-2P-ET'), ord_dict.get('GM-FH-ÞT-3P-ET')))\r\n",
    "    print('Þátíð fleirtala: {0}, {1}, {2}'.format(\r\n",
    "        ord_dict.get('GM-FH-ÞT-1P-FT'), ord_dict.get('GM-FH-ÞT-2P-FT'), ord_dict.get('GM-FH-ÞT-3P-FT')))\r\n",
    "\r\n",
    "\r\n"
   ]
  }
 ],
 "metadata": {
  "kernelspec": {
   "display_name": "Python 3.9.1 64-bit ('venv391': venv)",
   "name": "islenska"
  },
  "language_info": {
   "codemirror_mode": {
    "name": "ipython",
    "version": 3
   },
   "file_extension": ".py",
   "mimetype": "text/x-python",
   "name": "python",
   "nbconvert_exporter": "python",
   "pygments_lexer": "ipython3",
   "version": "3.9.1"
  },
  "orig_nbformat": 2
 },
 "nbformat": 4,
 "nbformat_minor": 2
}