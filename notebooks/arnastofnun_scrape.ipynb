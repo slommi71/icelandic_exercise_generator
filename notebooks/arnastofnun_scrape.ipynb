{
 "cells": [
  {
   "cell_type": "markdown",
   "metadata": {},
   "source": [
    "# Does not work, have to use api\r\n",
    "\r\n",
    "because of java script used in web page"
   ]
  },
  {
   "cell_type": "code",
   "execution_count": null,
   "metadata": {},
   "outputs": [],
   "source": [
    "#!pip install Scrapy requests\r\n",
    "import requests\r\n",
    "from scrapy import Selector\r\n",
    " "
   ]
  },
  {
   "cell_type": "code",
   "execution_count": null,
   "metadata": {},
   "outputs": [],
   "source": [
    "url = \"https://bin.arnastofnun.is/leit/mynd\"\n",
    "html = requests.get(url).content"
   ]
  },
  {
   "cell_type": "code",
   "execution_count": null,
   "metadata": {},
   "outputs": [],
   "source": [
    "sel = Selector(text=html)\n",
    "\n",
    "result = sel.xpath('//div[@class=\"column-content\"]/text()')\n",
    "print(html)"
   ]
  }
 ],
 "metadata": {
  "kernelspec": {
   "display_name": "Python 3.9.2 64-bit",
   "name": "python392jvsc74a57bd0d588ec035c5c56ad1c9ccb97227ebc27d3b3a60ad7653449eb4d4f14fc45119b"
  },
  "language_info": {
   "codemirror_mode": {
    "name": "ipython",
    "version": 3
   },
   "file_extension": ".py",
   "mimetype": "text/x-python",
   "name": "python",
   "nbconvert_exporter": "python",
   "pygments_lexer": "ipython3",
   "version": "3.9.2"
  },
  "metadata": {
   "interpreter": {
    "hash": "d588ec035c5c56ad1c9ccb97227ebc27d3b3a60ad7653449eb4d4f14fc45119b"
   }
  },
  "orig_nbformat": 2
 },
 "nbformat": 4,
 "nbformat_minor": 2
}